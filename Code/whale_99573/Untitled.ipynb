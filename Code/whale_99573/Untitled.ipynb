{
 "cells": [
  {
   "cell_type": "code",
   "execution_count": 57,
   "metadata": {
    "collapsed": true
   },
   "outputs": [],
   "source": [
    "import pandas as pd\n",
    "import matplotlib.pyplot as plt\n",
    "%matplotlib inline"
   ]
  },
  {
   "cell_type": "code",
   "execution_count": 58,
   "metadata": {
    "collapsed": false
   },
   "outputs": [],
   "source": [
    "df = pd.read_csv('posteriorpdf_w_8956.csv')"
   ]
  },
  {
   "cell_type": "code",
   "execution_count": 59,
   "metadata": {
    "collapsed": false
   },
   "outputs": [
    {
     "ename": "ValueError",
     "evalue": "Data has no positive values, and therefore can not be log-scaled.",
     "output_type": "error",
     "traceback": [
      "\u001b[0;31m---------------------------------------------------------------------------\u001b[0m",
      "\u001b[0;31mValueError\u001b[0m                                Traceback (most recent call last)",
      "\u001b[0;32m<ipython-input-59-0b661c9c2349>\u001b[0m in \u001b[0;36m<module>\u001b[0;34m()\u001b[0m\n\u001b[1;32m      1\u001b[0m \u001b[0mplt\u001b[0m\u001b[0;34m.\u001b[0m\u001b[0mplot\u001b[0m\u001b[0;34m(\u001b[0m\u001b[0mdf\u001b[0m\u001b[0;34m[\u001b[0m\u001b[0;34m'lnprob'\u001b[0m\u001b[0;34m]\u001b[0m\u001b[0;34m.\u001b[0m\u001b[0mmax\u001b[0m\u001b[0;34m(\u001b[0m\u001b[0;34m)\u001b[0m \u001b[0;34m-\u001b[0m \u001b[0mdf\u001b[0m\u001b[0;34m[\u001b[0m\u001b[0;34m'lnprob'\u001b[0m\u001b[0;34m]\u001b[0m\u001b[0;34m,\u001b[0m \u001b[0;34m','\u001b[0m\u001b[0;34m)\u001b[0m\u001b[0;34m\u001b[0m\u001b[0m\n\u001b[0;32m----> 2\u001b[0;31m \u001b[0mplt\u001b[0m\u001b[0;34m.\u001b[0m\u001b[0msemilogy\u001b[0m\u001b[0;34m(\u001b[0m\u001b[0;34m)\u001b[0m\u001b[0;34m\u001b[0m\u001b[0m\n\u001b[0m",
      "\u001b[0;32m/Users/rbussman/anaconda/lib/python2.7/site-packages/matplotlib/pyplot.pyc\u001b[0m in \u001b[0;36msemilogy\u001b[0;34m(*args, **kwargs)\u001b[0m\n\u001b[1;32m   3234\u001b[0m         \u001b[0max\u001b[0m\u001b[0;34m.\u001b[0m\u001b[0mhold\u001b[0m\u001b[0;34m(\u001b[0m\u001b[0mhold\u001b[0m\u001b[0;34m)\u001b[0m\u001b[0;34m\u001b[0m\u001b[0m\n\u001b[1;32m   3235\u001b[0m     \u001b[0;32mtry\u001b[0m\u001b[0;34m:\u001b[0m\u001b[0;34m\u001b[0m\u001b[0m\n\u001b[0;32m-> 3236\u001b[0;31m         \u001b[0mret\u001b[0m \u001b[0;34m=\u001b[0m \u001b[0max\u001b[0m\u001b[0;34m.\u001b[0m\u001b[0msemilogy\u001b[0m\u001b[0;34m(\u001b[0m\u001b[0;34m*\u001b[0m\u001b[0margs\u001b[0m\u001b[0;34m,\u001b[0m \u001b[0;34m**\u001b[0m\u001b[0mkwargs\u001b[0m\u001b[0;34m)\u001b[0m\u001b[0;34m\u001b[0m\u001b[0m\n\u001b[0m\u001b[1;32m   3237\u001b[0m         \u001b[0mdraw_if_interactive\u001b[0m\u001b[0;34m(\u001b[0m\u001b[0;34m)\u001b[0m\u001b[0;34m\u001b[0m\u001b[0m\n\u001b[1;32m   3238\u001b[0m     \u001b[0;32mfinally\u001b[0m\u001b[0;34m:\u001b[0m\u001b[0;34m\u001b[0m\u001b[0m\n",
      "\u001b[0;32m/Users/rbussman/anaconda/lib/python2.7/site-packages/matplotlib/axes/_axes.pyc\u001b[0m in \u001b[0;36msemilogy\u001b[0;34m(self, *args, **kwargs)\u001b[0m\n\u001b[1;32m   1608\u001b[0m              \u001b[0;34m'nonposy'\u001b[0m\u001b[0;34m:\u001b[0m \u001b[0mkwargs\u001b[0m\u001b[0;34m.\u001b[0m\u001b[0mpop\u001b[0m\u001b[0;34m(\u001b[0m\u001b[0;34m'nonposy'\u001b[0m\u001b[0;34m,\u001b[0m \u001b[0;34m'mask'\u001b[0m\u001b[0;34m)\u001b[0m\u001b[0;34m,\u001b[0m\u001b[0;34m\u001b[0m\u001b[0m\n\u001b[1;32m   1609\u001b[0m              }\n\u001b[0;32m-> 1610\u001b[0;31m         \u001b[0mself\u001b[0m\u001b[0;34m.\u001b[0m\u001b[0mset_yscale\u001b[0m\u001b[0;34m(\u001b[0m\u001b[0;34m'log'\u001b[0m\u001b[0;34m,\u001b[0m \u001b[0;34m**\u001b[0m\u001b[0md\u001b[0m\u001b[0;34m)\u001b[0m\u001b[0;34m\u001b[0m\u001b[0m\n\u001b[0m\u001b[1;32m   1611\u001b[0m         \u001b[0mb\u001b[0m \u001b[0;34m=\u001b[0m \u001b[0mself\u001b[0m\u001b[0;34m.\u001b[0m\u001b[0m_hold\u001b[0m\u001b[0;34m\u001b[0m\u001b[0m\n\u001b[1;32m   1612\u001b[0m         \u001b[0mself\u001b[0m\u001b[0;34m.\u001b[0m\u001b[0m_hold\u001b[0m \u001b[0;34m=\u001b[0m \u001b[0mTrue\u001b[0m  \u001b[0;31m# we've already processed the hold\u001b[0m\u001b[0;34m\u001b[0m\u001b[0m\n",
      "\u001b[0;32m/Users/rbussman/anaconda/lib/python2.7/site-packages/matplotlib/axes/_base.pyc\u001b[0m in \u001b[0;36mset_yscale\u001b[0;34m(self, value, **kwargs)\u001b[0m\n\u001b[1;32m   2853\u001b[0m             \u001b[0mkwargs\u001b[0m\u001b[0;34m[\u001b[0m\u001b[0;34m'nonposy'\u001b[0m\u001b[0;34m]\u001b[0m \u001b[0;34m=\u001b[0m \u001b[0;34m'clip'\u001b[0m\u001b[0;34m\u001b[0m\u001b[0m\n\u001b[1;32m   2854\u001b[0m         \u001b[0mself\u001b[0m\u001b[0;34m.\u001b[0m\u001b[0myaxis\u001b[0m\u001b[0;34m.\u001b[0m\u001b[0m_set_scale\u001b[0m\u001b[0;34m(\u001b[0m\u001b[0mvalue\u001b[0m\u001b[0;34m,\u001b[0m \u001b[0;34m**\u001b[0m\u001b[0mkwargs\u001b[0m\u001b[0;34m)\u001b[0m\u001b[0;34m\u001b[0m\u001b[0m\n\u001b[0;32m-> 2855\u001b[0;31m         \u001b[0mself\u001b[0m\u001b[0;34m.\u001b[0m\u001b[0mautoscale_view\u001b[0m\u001b[0;34m(\u001b[0m\u001b[0mscalex\u001b[0m\u001b[0;34m=\u001b[0m\u001b[0mFalse\u001b[0m\u001b[0;34m)\u001b[0m\u001b[0;34m\u001b[0m\u001b[0m\n\u001b[0m\u001b[1;32m   2856\u001b[0m         \u001b[0mself\u001b[0m\u001b[0;34m.\u001b[0m\u001b[0m_update_transScale\u001b[0m\u001b[0;34m(\u001b[0m\u001b[0;34m)\u001b[0m\u001b[0;34m\u001b[0m\u001b[0m\n\u001b[1;32m   2857\u001b[0m \u001b[0;34m\u001b[0m\u001b[0m\n",
      "\u001b[0;32m/Users/rbussman/anaconda/lib/python2.7/site-packages/matplotlib/axes/_base.pyc\u001b[0m in \u001b[0;36mautoscale_view\u001b[0;34m(self, tight, scalex, scaley)\u001b[0m\n\u001b[1;32m   1982\u001b[0m                 \u001b[0my1\u001b[0m \u001b[0;34m+=\u001b[0m \u001b[0mdelta\u001b[0m\u001b[0;34m\u001b[0m\u001b[0m\n\u001b[1;32m   1983\u001b[0m             \u001b[0;32mif\u001b[0m \u001b[0;32mnot\u001b[0m \u001b[0m_tight\u001b[0m\u001b[0;34m:\u001b[0m\u001b[0;34m\u001b[0m\u001b[0m\n\u001b[0;32m-> 1984\u001b[0;31m                 \u001b[0my0\u001b[0m\u001b[0;34m,\u001b[0m \u001b[0my1\u001b[0m \u001b[0;34m=\u001b[0m \u001b[0mylocator\u001b[0m\u001b[0;34m.\u001b[0m\u001b[0mview_limits\u001b[0m\u001b[0;34m(\u001b[0m\u001b[0my0\u001b[0m\u001b[0;34m,\u001b[0m \u001b[0my1\u001b[0m\u001b[0;34m)\u001b[0m\u001b[0;34m\u001b[0m\u001b[0m\n\u001b[0m\u001b[1;32m   1985\u001b[0m             \u001b[0mself\u001b[0m\u001b[0;34m.\u001b[0m\u001b[0mset_ybound\u001b[0m\u001b[0;34m(\u001b[0m\u001b[0my0\u001b[0m\u001b[0;34m,\u001b[0m \u001b[0my1\u001b[0m\u001b[0;34m)\u001b[0m\u001b[0;34m\u001b[0m\u001b[0m\n\u001b[1;32m   1986\u001b[0m \u001b[0;34m\u001b[0m\u001b[0m\n",
      "\u001b[0;32m/Users/rbussman/anaconda/lib/python2.7/site-packages/matplotlib/ticker.pyc\u001b[0m in \u001b[0;36mview_limits\u001b[0;34m(self, vmin, vmax)\u001b[0m\n\u001b[1;32m   1523\u001b[0m         \u001b[0;32mif\u001b[0m \u001b[0mminpos\u001b[0m \u001b[0;34m<=\u001b[0m \u001b[0;36m0\u001b[0m \u001b[0;32mor\u001b[0m \u001b[0;32mnot\u001b[0m \u001b[0mnp\u001b[0m\u001b[0;34m.\u001b[0m\u001b[0misfinite\u001b[0m\u001b[0;34m(\u001b[0m\u001b[0mminpos\u001b[0m\u001b[0;34m)\u001b[0m\u001b[0;34m:\u001b[0m\u001b[0;34m\u001b[0m\u001b[0m\n\u001b[1;32m   1524\u001b[0m             raise ValueError(\n\u001b[0;32m-> 1525\u001b[0;31m                 \u001b[0;34m\"Data has no positive values, and therefore can not be \"\u001b[0m\u001b[0;34m\u001b[0m\u001b[0m\n\u001b[0m\u001b[1;32m   1526\u001b[0m                 \"log-scaled.\")\n\u001b[1;32m   1527\u001b[0m \u001b[0;34m\u001b[0m\u001b[0m\n",
      "\u001b[0;31mValueError\u001b[0m: Data has no positive values, and therefore can not be log-scaled."
     ]
    },
    {
     "ename": "ValueError",
     "evalue": "Data has no positive values, and therefore can not be log-scaled.",
     "output_type": "error",
     "traceback": [
      "\u001b[0;31m---------------------------------------------------------------------------\u001b[0m",
      "\u001b[0;31mValueError\u001b[0m                                Traceback (most recent call last)",
      "\u001b[0;32m/Users/rbussman/anaconda/lib/python2.7/site-packages/IPython/core/formatters.pyc\u001b[0m in \u001b[0;36m__call__\u001b[0;34m(self, obj)\u001b[0m\n\u001b[1;32m    328\u001b[0m                 \u001b[0;32mpass\u001b[0m\u001b[0;34m\u001b[0m\u001b[0m\n\u001b[1;32m    329\u001b[0m             \u001b[0;32melse\u001b[0m\u001b[0;34m:\u001b[0m\u001b[0;34m\u001b[0m\u001b[0m\n\u001b[0;32m--> 330\u001b[0;31m                 \u001b[0;32mreturn\u001b[0m \u001b[0mprinter\u001b[0m\u001b[0;34m(\u001b[0m\u001b[0mobj\u001b[0m\u001b[0;34m)\u001b[0m\u001b[0;34m\u001b[0m\u001b[0m\n\u001b[0m\u001b[1;32m    331\u001b[0m             \u001b[0;31m# Finally look for special method names\u001b[0m\u001b[0;34m\u001b[0m\u001b[0;34m\u001b[0m\u001b[0m\n\u001b[1;32m    332\u001b[0m             \u001b[0mmethod\u001b[0m \u001b[0;34m=\u001b[0m \u001b[0m_safe_get_formatter_method\u001b[0m\u001b[0;34m(\u001b[0m\u001b[0mobj\u001b[0m\u001b[0;34m,\u001b[0m \u001b[0mself\u001b[0m\u001b[0;34m.\u001b[0m\u001b[0mprint_method\u001b[0m\u001b[0;34m)\u001b[0m\u001b[0;34m\u001b[0m\u001b[0m\n",
      "\u001b[0;32m/Users/rbussman/anaconda/lib/python2.7/site-packages/IPython/core/pylabtools.pyc\u001b[0m in \u001b[0;36m<lambda>\u001b[0;34m(fig)\u001b[0m\n\u001b[1;32m    205\u001b[0m \u001b[0;34m\u001b[0m\u001b[0m\n\u001b[1;32m    206\u001b[0m     \u001b[0;32mif\u001b[0m \u001b[0;34m'png'\u001b[0m \u001b[0;32min\u001b[0m \u001b[0mformats\u001b[0m\u001b[0;34m:\u001b[0m\u001b[0;34m\u001b[0m\u001b[0m\n\u001b[0;32m--> 207\u001b[0;31m         \u001b[0mpng_formatter\u001b[0m\u001b[0;34m.\u001b[0m\u001b[0mfor_type\u001b[0m\u001b[0;34m(\u001b[0m\u001b[0mFigure\u001b[0m\u001b[0;34m,\u001b[0m \u001b[0;32mlambda\u001b[0m \u001b[0mfig\u001b[0m\u001b[0;34m:\u001b[0m \u001b[0mprint_figure\u001b[0m\u001b[0;34m(\u001b[0m\u001b[0mfig\u001b[0m\u001b[0;34m,\u001b[0m \u001b[0;34m'png'\u001b[0m\u001b[0;34m,\u001b[0m \u001b[0;34m**\u001b[0m\u001b[0mkwargs\u001b[0m\u001b[0;34m)\u001b[0m\u001b[0;34m)\u001b[0m\u001b[0;34m\u001b[0m\u001b[0m\n\u001b[0m\u001b[1;32m    208\u001b[0m     \u001b[0;32mif\u001b[0m \u001b[0;34m'retina'\u001b[0m \u001b[0;32min\u001b[0m \u001b[0mformats\u001b[0m \u001b[0;32mor\u001b[0m \u001b[0;34m'png2x'\u001b[0m \u001b[0;32min\u001b[0m \u001b[0mformats\u001b[0m\u001b[0;34m:\u001b[0m\u001b[0;34m\u001b[0m\u001b[0m\n\u001b[1;32m    209\u001b[0m         \u001b[0mpng_formatter\u001b[0m\u001b[0;34m.\u001b[0m\u001b[0mfor_type\u001b[0m\u001b[0;34m(\u001b[0m\u001b[0mFigure\u001b[0m\u001b[0;34m,\u001b[0m \u001b[0;32mlambda\u001b[0m \u001b[0mfig\u001b[0m\u001b[0;34m:\u001b[0m \u001b[0mretina_figure\u001b[0m\u001b[0;34m(\u001b[0m\u001b[0mfig\u001b[0m\u001b[0;34m,\u001b[0m \u001b[0;34m**\u001b[0m\u001b[0mkwargs\u001b[0m\u001b[0;34m)\u001b[0m\u001b[0;34m)\u001b[0m\u001b[0;34m\u001b[0m\u001b[0m\n",
      "\u001b[0;32m/Users/rbussman/anaconda/lib/python2.7/site-packages/IPython/core/pylabtools.pyc\u001b[0m in \u001b[0;36mprint_figure\u001b[0;34m(fig, fmt, bbox_inches, **kwargs)\u001b[0m\n\u001b[1;32m    115\u001b[0m \u001b[0;34m\u001b[0m\u001b[0m\n\u001b[1;32m    116\u001b[0m     \u001b[0mbytes_io\u001b[0m \u001b[0;34m=\u001b[0m \u001b[0mBytesIO\u001b[0m\u001b[0;34m(\u001b[0m\u001b[0;34m)\u001b[0m\u001b[0;34m\u001b[0m\u001b[0m\n\u001b[0;32m--> 117\u001b[0;31m     \u001b[0mfig\u001b[0m\u001b[0;34m.\u001b[0m\u001b[0mcanvas\u001b[0m\u001b[0;34m.\u001b[0m\u001b[0mprint_figure\u001b[0m\u001b[0;34m(\u001b[0m\u001b[0mbytes_io\u001b[0m\u001b[0;34m,\u001b[0m \u001b[0;34m**\u001b[0m\u001b[0mkw\u001b[0m\u001b[0;34m)\u001b[0m\u001b[0;34m\u001b[0m\u001b[0m\n\u001b[0m\u001b[1;32m    118\u001b[0m     \u001b[0mdata\u001b[0m \u001b[0;34m=\u001b[0m \u001b[0mbytes_io\u001b[0m\u001b[0;34m.\u001b[0m\u001b[0mgetvalue\u001b[0m\u001b[0;34m(\u001b[0m\u001b[0;34m)\u001b[0m\u001b[0;34m\u001b[0m\u001b[0m\n\u001b[1;32m    119\u001b[0m     \u001b[0;32mif\u001b[0m \u001b[0mfmt\u001b[0m \u001b[0;34m==\u001b[0m \u001b[0;34m'svg'\u001b[0m\u001b[0;34m:\u001b[0m\u001b[0;34m\u001b[0m\u001b[0m\n",
      "\u001b[0;32m/Users/rbussman/anaconda/lib/python2.7/site-packages/matplotlib/backend_bases.pyc\u001b[0m in \u001b[0;36mprint_figure\u001b[0;34m(self, filename, dpi, facecolor, edgecolor, orientation, format, **kwargs)\u001b[0m\n\u001b[1;32m   2156\u001b[0m                     \u001b[0morientation\u001b[0m\u001b[0;34m=\u001b[0m\u001b[0morientation\u001b[0m\u001b[0;34m,\u001b[0m\u001b[0;34m\u001b[0m\u001b[0m\n\u001b[1;32m   2157\u001b[0m                     \u001b[0mdryrun\u001b[0m\u001b[0;34m=\u001b[0m\u001b[0mTrue\u001b[0m\u001b[0;34m,\u001b[0m\u001b[0;34m\u001b[0m\u001b[0m\n\u001b[0;32m-> 2158\u001b[0;31m                     **kwargs)\n\u001b[0m\u001b[1;32m   2159\u001b[0m                 \u001b[0mrenderer\u001b[0m \u001b[0;34m=\u001b[0m \u001b[0mself\u001b[0m\u001b[0;34m.\u001b[0m\u001b[0mfigure\u001b[0m\u001b[0;34m.\u001b[0m\u001b[0m_cachedRenderer\u001b[0m\u001b[0;34m\u001b[0m\u001b[0m\n\u001b[1;32m   2160\u001b[0m                 \u001b[0mbbox_inches\u001b[0m \u001b[0;34m=\u001b[0m \u001b[0mself\u001b[0m\u001b[0;34m.\u001b[0m\u001b[0mfigure\u001b[0m\u001b[0;34m.\u001b[0m\u001b[0mget_tightbbox\u001b[0m\u001b[0;34m(\u001b[0m\u001b[0mrenderer\u001b[0m\u001b[0;34m)\u001b[0m\u001b[0;34m\u001b[0m\u001b[0m\n",
      "\u001b[0;32m/Users/rbussman/anaconda/lib/python2.7/site-packages/matplotlib/backends/backend_agg.pyc\u001b[0m in \u001b[0;36mprint_png\u001b[0;34m(self, filename_or_obj, *args, **kwargs)\u001b[0m\n\u001b[1;32m    519\u001b[0m \u001b[0;34m\u001b[0m\u001b[0m\n\u001b[1;32m    520\u001b[0m     \u001b[0;32mdef\u001b[0m \u001b[0mprint_png\u001b[0m\u001b[0;34m(\u001b[0m\u001b[0mself\u001b[0m\u001b[0;34m,\u001b[0m \u001b[0mfilename_or_obj\u001b[0m\u001b[0;34m,\u001b[0m \u001b[0;34m*\u001b[0m\u001b[0margs\u001b[0m\u001b[0;34m,\u001b[0m \u001b[0;34m**\u001b[0m\u001b[0mkwargs\u001b[0m\u001b[0;34m)\u001b[0m\u001b[0;34m:\u001b[0m\u001b[0;34m\u001b[0m\u001b[0m\n\u001b[0;32m--> 521\u001b[0;31m         \u001b[0mFigureCanvasAgg\u001b[0m\u001b[0;34m.\u001b[0m\u001b[0mdraw\u001b[0m\u001b[0;34m(\u001b[0m\u001b[0mself\u001b[0m\u001b[0;34m)\u001b[0m\u001b[0;34m\u001b[0m\u001b[0m\n\u001b[0m\u001b[1;32m    522\u001b[0m         \u001b[0mrenderer\u001b[0m \u001b[0;34m=\u001b[0m \u001b[0mself\u001b[0m\u001b[0;34m.\u001b[0m\u001b[0mget_renderer\u001b[0m\u001b[0;34m(\u001b[0m\u001b[0;34m)\u001b[0m\u001b[0;34m\u001b[0m\u001b[0m\n\u001b[1;32m    523\u001b[0m         \u001b[0moriginal_dpi\u001b[0m \u001b[0;34m=\u001b[0m \u001b[0mrenderer\u001b[0m\u001b[0;34m.\u001b[0m\u001b[0mdpi\u001b[0m\u001b[0;34m\u001b[0m\u001b[0m\n",
      "\u001b[0;32m/Users/rbussman/anaconda/lib/python2.7/site-packages/matplotlib/backends/backend_agg.pyc\u001b[0m in \u001b[0;36mdraw\u001b[0;34m(self)\u001b[0m\n\u001b[1;32m    467\u001b[0m \u001b[0;34m\u001b[0m\u001b[0m\n\u001b[1;32m    468\u001b[0m         \u001b[0;32mtry\u001b[0m\u001b[0;34m:\u001b[0m\u001b[0;34m\u001b[0m\u001b[0m\n\u001b[0;32m--> 469\u001b[0;31m             \u001b[0mself\u001b[0m\u001b[0;34m.\u001b[0m\u001b[0mfigure\u001b[0m\u001b[0;34m.\u001b[0m\u001b[0mdraw\u001b[0m\u001b[0;34m(\u001b[0m\u001b[0mself\u001b[0m\u001b[0;34m.\u001b[0m\u001b[0mrenderer\u001b[0m\u001b[0;34m)\u001b[0m\u001b[0;34m\u001b[0m\u001b[0m\n\u001b[0m\u001b[1;32m    470\u001b[0m         \u001b[0;32mfinally\u001b[0m\u001b[0;34m:\u001b[0m\u001b[0;34m\u001b[0m\u001b[0m\n\u001b[1;32m    471\u001b[0m             \u001b[0mRendererAgg\u001b[0m\u001b[0;34m.\u001b[0m\u001b[0mlock\u001b[0m\u001b[0;34m.\u001b[0m\u001b[0mrelease\u001b[0m\u001b[0;34m(\u001b[0m\u001b[0;34m)\u001b[0m\u001b[0;34m\u001b[0m\u001b[0m\n",
      "\u001b[0;32m/Users/rbussman/anaconda/lib/python2.7/site-packages/matplotlib/artist.pyc\u001b[0m in \u001b[0;36mdraw_wrapper\u001b[0;34m(artist, renderer, *args, **kwargs)\u001b[0m\n\u001b[1;32m     57\u001b[0m     \u001b[0;32mdef\u001b[0m \u001b[0mdraw_wrapper\u001b[0m\u001b[0;34m(\u001b[0m\u001b[0martist\u001b[0m\u001b[0;34m,\u001b[0m \u001b[0mrenderer\u001b[0m\u001b[0;34m,\u001b[0m \u001b[0;34m*\u001b[0m\u001b[0margs\u001b[0m\u001b[0;34m,\u001b[0m \u001b[0;34m**\u001b[0m\u001b[0mkwargs\u001b[0m\u001b[0;34m)\u001b[0m\u001b[0;34m:\u001b[0m\u001b[0;34m\u001b[0m\u001b[0m\n\u001b[1;32m     58\u001b[0m         \u001b[0mbefore\u001b[0m\u001b[0;34m(\u001b[0m\u001b[0martist\u001b[0m\u001b[0;34m,\u001b[0m \u001b[0mrenderer\u001b[0m\u001b[0;34m)\u001b[0m\u001b[0;34m\u001b[0m\u001b[0m\n\u001b[0;32m---> 59\u001b[0;31m         \u001b[0mdraw\u001b[0m\u001b[0;34m(\u001b[0m\u001b[0martist\u001b[0m\u001b[0;34m,\u001b[0m \u001b[0mrenderer\u001b[0m\u001b[0;34m,\u001b[0m \u001b[0;34m*\u001b[0m\u001b[0margs\u001b[0m\u001b[0;34m,\u001b[0m \u001b[0;34m**\u001b[0m\u001b[0mkwargs\u001b[0m\u001b[0;34m)\u001b[0m\u001b[0;34m\u001b[0m\u001b[0m\n\u001b[0m\u001b[1;32m     60\u001b[0m         \u001b[0mafter\u001b[0m\u001b[0;34m(\u001b[0m\u001b[0martist\u001b[0m\u001b[0;34m,\u001b[0m \u001b[0mrenderer\u001b[0m\u001b[0;34m)\u001b[0m\u001b[0;34m\u001b[0m\u001b[0m\n\u001b[1;32m     61\u001b[0m \u001b[0;34m\u001b[0m\u001b[0m\n",
      "\u001b[0;32m/Users/rbussman/anaconda/lib/python2.7/site-packages/matplotlib/figure.pyc\u001b[0m in \u001b[0;36mdraw\u001b[0;34m(self, renderer)\u001b[0m\n\u001b[1;32m   1083\u001b[0m         \u001b[0mdsu\u001b[0m\u001b[0;34m.\u001b[0m\u001b[0msort\u001b[0m\u001b[0;34m(\u001b[0m\u001b[0mkey\u001b[0m\u001b[0;34m=\u001b[0m\u001b[0mitemgetter\u001b[0m\u001b[0;34m(\u001b[0m\u001b[0;36m0\u001b[0m\u001b[0;34m)\u001b[0m\u001b[0;34m)\u001b[0m\u001b[0;34m\u001b[0m\u001b[0m\n\u001b[1;32m   1084\u001b[0m         \u001b[0;32mfor\u001b[0m \u001b[0mzorder\u001b[0m\u001b[0;34m,\u001b[0m \u001b[0ma\u001b[0m\u001b[0;34m,\u001b[0m \u001b[0mfunc\u001b[0m\u001b[0;34m,\u001b[0m \u001b[0margs\u001b[0m \u001b[0;32min\u001b[0m \u001b[0mdsu\u001b[0m\u001b[0;34m:\u001b[0m\u001b[0;34m\u001b[0m\u001b[0m\n\u001b[0;32m-> 1085\u001b[0;31m             \u001b[0mfunc\u001b[0m\u001b[0;34m(\u001b[0m\u001b[0;34m*\u001b[0m\u001b[0margs\u001b[0m\u001b[0;34m)\u001b[0m\u001b[0;34m\u001b[0m\u001b[0m\n\u001b[0m\u001b[1;32m   1086\u001b[0m \u001b[0;34m\u001b[0m\u001b[0m\n\u001b[1;32m   1087\u001b[0m         \u001b[0mrenderer\u001b[0m\u001b[0;34m.\u001b[0m\u001b[0mclose_group\u001b[0m\u001b[0;34m(\u001b[0m\u001b[0;34m'figure'\u001b[0m\u001b[0;34m)\u001b[0m\u001b[0;34m\u001b[0m\u001b[0m\n",
      "\u001b[0;32m/Users/rbussman/anaconda/lib/python2.7/site-packages/matplotlib/artist.pyc\u001b[0m in \u001b[0;36mdraw_wrapper\u001b[0;34m(artist, renderer, *args, **kwargs)\u001b[0m\n\u001b[1;32m     57\u001b[0m     \u001b[0;32mdef\u001b[0m \u001b[0mdraw_wrapper\u001b[0m\u001b[0;34m(\u001b[0m\u001b[0martist\u001b[0m\u001b[0;34m,\u001b[0m \u001b[0mrenderer\u001b[0m\u001b[0;34m,\u001b[0m \u001b[0;34m*\u001b[0m\u001b[0margs\u001b[0m\u001b[0;34m,\u001b[0m \u001b[0;34m**\u001b[0m\u001b[0mkwargs\u001b[0m\u001b[0;34m)\u001b[0m\u001b[0;34m:\u001b[0m\u001b[0;34m\u001b[0m\u001b[0m\n\u001b[1;32m     58\u001b[0m         \u001b[0mbefore\u001b[0m\u001b[0;34m(\u001b[0m\u001b[0martist\u001b[0m\u001b[0;34m,\u001b[0m \u001b[0mrenderer\u001b[0m\u001b[0;34m)\u001b[0m\u001b[0;34m\u001b[0m\u001b[0m\n\u001b[0;32m---> 59\u001b[0;31m         \u001b[0mdraw\u001b[0m\u001b[0;34m(\u001b[0m\u001b[0martist\u001b[0m\u001b[0;34m,\u001b[0m \u001b[0mrenderer\u001b[0m\u001b[0;34m,\u001b[0m \u001b[0;34m*\u001b[0m\u001b[0margs\u001b[0m\u001b[0;34m,\u001b[0m \u001b[0;34m**\u001b[0m\u001b[0mkwargs\u001b[0m\u001b[0;34m)\u001b[0m\u001b[0;34m\u001b[0m\u001b[0m\n\u001b[0m\u001b[1;32m     60\u001b[0m         \u001b[0mafter\u001b[0m\u001b[0;34m(\u001b[0m\u001b[0martist\u001b[0m\u001b[0;34m,\u001b[0m \u001b[0mrenderer\u001b[0m\u001b[0;34m)\u001b[0m\u001b[0;34m\u001b[0m\u001b[0m\n\u001b[1;32m     61\u001b[0m \u001b[0;34m\u001b[0m\u001b[0m\n",
      "\u001b[0;32m/Users/rbussman/anaconda/lib/python2.7/site-packages/matplotlib/axes/_base.pyc\u001b[0m in \u001b[0;36mdraw\u001b[0;34m(self, renderer, inframe)\u001b[0m\n\u001b[1;32m   2108\u001b[0m \u001b[0;34m\u001b[0m\u001b[0m\n\u001b[1;32m   2109\u001b[0m         \u001b[0;32mfor\u001b[0m \u001b[0mzorder\u001b[0m\u001b[0;34m,\u001b[0m \u001b[0ma\u001b[0m \u001b[0;32min\u001b[0m \u001b[0mdsu\u001b[0m\u001b[0;34m:\u001b[0m\u001b[0;34m\u001b[0m\u001b[0m\n\u001b[0;32m-> 2110\u001b[0;31m             \u001b[0ma\u001b[0m\u001b[0;34m.\u001b[0m\u001b[0mdraw\u001b[0m\u001b[0;34m(\u001b[0m\u001b[0mrenderer\u001b[0m\u001b[0;34m)\u001b[0m\u001b[0;34m\u001b[0m\u001b[0m\n\u001b[0m\u001b[1;32m   2111\u001b[0m \u001b[0;34m\u001b[0m\u001b[0m\n\u001b[1;32m   2112\u001b[0m         \u001b[0mrenderer\u001b[0m\u001b[0;34m.\u001b[0m\u001b[0mclose_group\u001b[0m\u001b[0;34m(\u001b[0m\u001b[0;34m'axes'\u001b[0m\u001b[0;34m)\u001b[0m\u001b[0;34m\u001b[0m\u001b[0m\n",
      "\u001b[0;32m/Users/rbussman/anaconda/lib/python2.7/site-packages/matplotlib/artist.pyc\u001b[0m in \u001b[0;36mdraw_wrapper\u001b[0;34m(artist, renderer, *args, **kwargs)\u001b[0m\n\u001b[1;32m     57\u001b[0m     \u001b[0;32mdef\u001b[0m \u001b[0mdraw_wrapper\u001b[0m\u001b[0;34m(\u001b[0m\u001b[0martist\u001b[0m\u001b[0;34m,\u001b[0m \u001b[0mrenderer\u001b[0m\u001b[0;34m,\u001b[0m \u001b[0;34m*\u001b[0m\u001b[0margs\u001b[0m\u001b[0;34m,\u001b[0m \u001b[0;34m**\u001b[0m\u001b[0mkwargs\u001b[0m\u001b[0;34m)\u001b[0m\u001b[0;34m:\u001b[0m\u001b[0;34m\u001b[0m\u001b[0m\n\u001b[1;32m     58\u001b[0m         \u001b[0mbefore\u001b[0m\u001b[0;34m(\u001b[0m\u001b[0martist\u001b[0m\u001b[0;34m,\u001b[0m \u001b[0mrenderer\u001b[0m\u001b[0;34m)\u001b[0m\u001b[0;34m\u001b[0m\u001b[0m\n\u001b[0;32m---> 59\u001b[0;31m         \u001b[0mdraw\u001b[0m\u001b[0;34m(\u001b[0m\u001b[0martist\u001b[0m\u001b[0;34m,\u001b[0m \u001b[0mrenderer\u001b[0m\u001b[0;34m,\u001b[0m \u001b[0;34m*\u001b[0m\u001b[0margs\u001b[0m\u001b[0;34m,\u001b[0m \u001b[0;34m**\u001b[0m\u001b[0mkwargs\u001b[0m\u001b[0;34m)\u001b[0m\u001b[0;34m\u001b[0m\u001b[0m\n\u001b[0m\u001b[1;32m     60\u001b[0m         \u001b[0mafter\u001b[0m\u001b[0;34m(\u001b[0m\u001b[0martist\u001b[0m\u001b[0;34m,\u001b[0m \u001b[0mrenderer\u001b[0m\u001b[0;34m)\u001b[0m\u001b[0;34m\u001b[0m\u001b[0m\n\u001b[1;32m     61\u001b[0m \u001b[0;34m\u001b[0m\u001b[0m\n",
      "\u001b[0;32m/Users/rbussman/anaconda/lib/python2.7/site-packages/matplotlib/axis.pyc\u001b[0m in \u001b[0;36mdraw\u001b[0;34m(self, renderer, *args, **kwargs)\u001b[0m\n\u001b[1;32m   1112\u001b[0m         \u001b[0mrenderer\u001b[0m\u001b[0;34m.\u001b[0m\u001b[0mopen_group\u001b[0m\u001b[0;34m(\u001b[0m\u001b[0m__name__\u001b[0m\u001b[0;34m)\u001b[0m\u001b[0;34m\u001b[0m\u001b[0m\n\u001b[1;32m   1113\u001b[0m \u001b[0;34m\u001b[0m\u001b[0m\n\u001b[0;32m-> 1114\u001b[0;31m         \u001b[0mticks_to_draw\u001b[0m \u001b[0;34m=\u001b[0m \u001b[0mself\u001b[0m\u001b[0;34m.\u001b[0m\u001b[0m_update_ticks\u001b[0m\u001b[0;34m(\u001b[0m\u001b[0mrenderer\u001b[0m\u001b[0;34m)\u001b[0m\u001b[0;34m\u001b[0m\u001b[0m\n\u001b[0m\u001b[1;32m   1115\u001b[0m         ticklabelBoxes, ticklabelBoxes2 = self._get_tick_bboxes(ticks_to_draw,\n\u001b[1;32m   1116\u001b[0m                                                                 renderer)\n",
      "\u001b[0;32m/Users/rbussman/anaconda/lib/python2.7/site-packages/matplotlib/axis.pyc\u001b[0m in \u001b[0;36m_update_ticks\u001b[0;34m(self, renderer)\u001b[0m\n\u001b[1;32m    955\u001b[0m \u001b[0;34m\u001b[0m\u001b[0m\n\u001b[1;32m    956\u001b[0m         \u001b[0minterval\u001b[0m \u001b[0;34m=\u001b[0m \u001b[0mself\u001b[0m\u001b[0;34m.\u001b[0m\u001b[0mget_view_interval\u001b[0m\u001b[0;34m(\u001b[0m\u001b[0;34m)\u001b[0m\u001b[0;34m\u001b[0m\u001b[0m\n\u001b[0;32m--> 957\u001b[0;31m         \u001b[0mtick_tups\u001b[0m \u001b[0;34m=\u001b[0m \u001b[0;34m[\u001b[0m\u001b[0mt\u001b[0m \u001b[0;32mfor\u001b[0m \u001b[0mt\u001b[0m \u001b[0;32min\u001b[0m \u001b[0mself\u001b[0m\u001b[0;34m.\u001b[0m\u001b[0miter_ticks\u001b[0m\u001b[0;34m(\u001b[0m\u001b[0;34m)\u001b[0m\u001b[0;34m]\u001b[0m\u001b[0;34m\u001b[0m\u001b[0m\n\u001b[0m\u001b[1;32m    958\u001b[0m         \u001b[0;32mif\u001b[0m \u001b[0mself\u001b[0m\u001b[0;34m.\u001b[0m\u001b[0m_smart_bounds\u001b[0m\u001b[0;34m:\u001b[0m\u001b[0;34m\u001b[0m\u001b[0m\n\u001b[1;32m    959\u001b[0m             \u001b[0;31m# handle inverted limits\u001b[0m\u001b[0;34m\u001b[0m\u001b[0;34m\u001b[0m\u001b[0m\n",
      "\u001b[0;32m/Users/rbussman/anaconda/lib/python2.7/site-packages/matplotlib/axis.pyc\u001b[0m in \u001b[0;36miter_ticks\u001b[0;34m(self)\u001b[0m\n\u001b[1;32m    899\u001b[0m         \u001b[0mIterate\u001b[0m \u001b[0mthrough\u001b[0m \u001b[0mall\u001b[0m \u001b[0mof\u001b[0m \u001b[0mthe\u001b[0m \u001b[0mmajor\u001b[0m \u001b[0;32mand\u001b[0m \u001b[0mminor\u001b[0m \u001b[0mticks\u001b[0m\u001b[0;34m.\u001b[0m\u001b[0;34m\u001b[0m\u001b[0m\n\u001b[1;32m    900\u001b[0m         \"\"\"\n\u001b[0;32m--> 901\u001b[0;31m         \u001b[0mmajorLocs\u001b[0m \u001b[0;34m=\u001b[0m \u001b[0mself\u001b[0m\u001b[0;34m.\u001b[0m\u001b[0mmajor\u001b[0m\u001b[0;34m.\u001b[0m\u001b[0mlocator\u001b[0m\u001b[0;34m(\u001b[0m\u001b[0;34m)\u001b[0m\u001b[0;34m\u001b[0m\u001b[0m\n\u001b[0m\u001b[1;32m    902\u001b[0m         \u001b[0mmajorTicks\u001b[0m \u001b[0;34m=\u001b[0m \u001b[0mself\u001b[0m\u001b[0;34m.\u001b[0m\u001b[0mget_major_ticks\u001b[0m\u001b[0;34m(\u001b[0m\u001b[0mlen\u001b[0m\u001b[0;34m(\u001b[0m\u001b[0mmajorLocs\u001b[0m\u001b[0;34m)\u001b[0m\u001b[0;34m)\u001b[0m\u001b[0;34m\u001b[0m\u001b[0m\n\u001b[1;32m    903\u001b[0m         \u001b[0mself\u001b[0m\u001b[0;34m.\u001b[0m\u001b[0mmajor\u001b[0m\u001b[0;34m.\u001b[0m\u001b[0mformatter\u001b[0m\u001b[0;34m.\u001b[0m\u001b[0mset_locs\u001b[0m\u001b[0;34m(\u001b[0m\u001b[0mmajorLocs\u001b[0m\u001b[0;34m)\u001b[0m\u001b[0;34m\u001b[0m\u001b[0m\n",
      "\u001b[0;32m/Users/rbussman/anaconda/lib/python2.7/site-packages/matplotlib/ticker.pyc\u001b[0m in \u001b[0;36m__call__\u001b[0;34m(self)\u001b[0m\n\u001b[1;32m   1448\u001b[0m         \u001b[0;34m'Return the locations of the ticks'\u001b[0m\u001b[0;34m\u001b[0m\u001b[0m\n\u001b[1;32m   1449\u001b[0m         \u001b[0mvmin\u001b[0m\u001b[0;34m,\u001b[0m \u001b[0mvmax\u001b[0m \u001b[0;34m=\u001b[0m \u001b[0mself\u001b[0m\u001b[0;34m.\u001b[0m\u001b[0maxis\u001b[0m\u001b[0;34m.\u001b[0m\u001b[0mget_view_interval\u001b[0m\u001b[0;34m(\u001b[0m\u001b[0;34m)\u001b[0m\u001b[0;34m\u001b[0m\u001b[0m\n\u001b[0;32m-> 1450\u001b[0;31m         \u001b[0;32mreturn\u001b[0m \u001b[0mself\u001b[0m\u001b[0;34m.\u001b[0m\u001b[0mtick_values\u001b[0m\u001b[0;34m(\u001b[0m\u001b[0mvmin\u001b[0m\u001b[0;34m,\u001b[0m \u001b[0mvmax\u001b[0m\u001b[0;34m)\u001b[0m\u001b[0;34m\u001b[0m\u001b[0m\n\u001b[0m\u001b[1;32m   1451\u001b[0m \u001b[0;34m\u001b[0m\u001b[0m\n\u001b[1;32m   1452\u001b[0m     \u001b[0;32mdef\u001b[0m \u001b[0mtick_values\u001b[0m\u001b[0;34m(\u001b[0m\u001b[0mself\u001b[0m\u001b[0;34m,\u001b[0m \u001b[0mvmin\u001b[0m\u001b[0;34m,\u001b[0m \u001b[0mvmax\u001b[0m\u001b[0;34m)\u001b[0m\u001b[0;34m:\u001b[0m\u001b[0;34m\u001b[0m\u001b[0m\n",
      "\u001b[0;32m/Users/rbussman/anaconda/lib/python2.7/site-packages/matplotlib/ticker.pyc\u001b[0m in \u001b[0;36mtick_values\u001b[0;34m(self, vmin, vmax)\u001b[0m\n\u001b[1;32m   1466\u001b[0m             \u001b[0;32mif\u001b[0m \u001b[0mvmin\u001b[0m \u001b[0;34m<=\u001b[0m \u001b[0;36m0.0\u001b[0m \u001b[0;32mor\u001b[0m \u001b[0;32mnot\u001b[0m \u001b[0mnp\u001b[0m\u001b[0;34m.\u001b[0m\u001b[0misfinite\u001b[0m\u001b[0;34m(\u001b[0m\u001b[0mvmin\u001b[0m\u001b[0;34m)\u001b[0m\u001b[0;34m:\u001b[0m\u001b[0;34m\u001b[0m\u001b[0m\n\u001b[1;32m   1467\u001b[0m                 raise ValueError(\n\u001b[0;32m-> 1468\u001b[0;31m                     \u001b[0;34m\"Data has no positive values, and therefore can not be \"\u001b[0m\u001b[0;34m\u001b[0m\u001b[0m\n\u001b[0m\u001b[1;32m   1469\u001b[0m                     \"log-scaled.\")\n\u001b[1;32m   1470\u001b[0m \u001b[0;34m\u001b[0m\u001b[0m\n",
      "\u001b[0;31mValueError\u001b[0m: Data has no positive values, and therefore can not be log-scaled."
     ]
    },
    {
     "data": {
      "text/plain": [
       "<matplotlib.figure.Figure at 0x10ab69f90>"
      ]
     },
     "metadata": {},
     "output_type": "display_data"
    }
   ],
   "source": [
    "plt.plot(df['lnprob'].max() - df['lnprob'], ',')\n",
    "plt.semilogy()"
   ]
  },
  {
   "cell_type": "code",
   "execution_count": 56,
   "metadata": {
    "collapsed": false
   },
   "outputs": [
    {
     "data": {
      "text/plain": [
       "[]"
      ]
     },
     "execution_count": 56,
     "metadata": {},
     "output_type": "execute_result"
    },
    {
     "data": {
      "image/png": "iVBORw0KGgoAAAANSUhEUgAAAXsAAAEFCAYAAAACFke6AAAABHNCSVQICAgIfAhkiAAAAAlwSFlz\nAAALEgAACxIB0t1+/AAAHVlJREFUeJzt3X/wZfdd1/Hny4SUKUiXWN38doPNTrpOqO3QFGbEXCmN\nGcRshhmbMAoxUtBmBHSUdhex+3VGMak/EKthkHbjOkO3LLWWRAGzqb0QrTRVWgls1k0cV7PBfFtL\nOqLCdDN5+8c9d78nJ5/z857765zXY2Zn7z33/NrPfr+v87nv8znnKCIwM7Nh+z3r3gEzM1s+h72Z\n2Qg47M3MRsBhb2Y2Ag57M7MRcNibmY1AZdhLOi5pV9JTuWm3SnpS0mclfUbSW3OfHZX0jKSzkm5f\n5o6bmVlzdT37h4E7CtPeD/yNiHgz8L7sPZIOAXcDh7JlHpLkbw5mZhugMowj4gngxcLk/wm8Lnu9\nD3g+e30YOBkRFyPiPPAscGt/u2pmZl1d3mGZI8C/k/T3mB0svimbfg3wK7n5LgDXLrZ7ZmbWhy5l\nlg8BPxARNwB/BTheMa/vxWBmtgG69OxvjYhvzV5/FPhg9vp54PrcfNexV+K5RJIPAGZmHUSEui7b\npWf/rKTbstffApzLXj8C3CPpCkk3AjcBT6ZWEBG9/jl27Fiv85bN03R61fuy126LYbVFk2mraou2\n69vEtpgVCV69vdS01J/5fNvcFouq7NlLOgncBrxe0nPMRt98H/BPJL0G+J3sPRFxRtIp4AzwEnB/\n9LGHDUwmk17nLZun6fSq9232tQu3Rfm2F523TVs0mbaqtmi77k1ti1SaNE2Y+XxDaYtO+uxBNDvC\nEjZz7Nixde/CxnBb7HFb7FlWW2xjDGXZ2Tl7PQ5+jZbds90mbos9bgtQVpleVluspuawWRQr/ldL\nilVv08xs20kiVnyC1szMtozD3sxsBBz2ZraR1LlgYSkOezPbSMs4tTfmA4jD3sy2Viq8qwJ9zGND\nHPZmthVSIZ4P7/nnYw70Kg57M9sKdSHukK/msDezjdek1j7menwTDnsz23ipXnsx3Nv07Md4YHDY\nm9nWkPqpzY+x5OOwN7ONUdXjlmYhXRXUY+yxN+WwN7ONURXkEc0OBpbmsDezrVF3MLByDnszsxGo\nDHtJxyXtSnqqMP37JT0t6dclPZibflTSM5LOSrp9WTttZmbt1D1w/GHgA8A/n0+Q9MeBO4Gvj4iL\nkn5/Nv0QcDdwCLgWeFzSwYh4eSl7bmajk6/Lz1+navVV9fux1vYre/YR8QTwYmHyu4G/ExEXs3m+\nkE0/DJyMiIsRcR54Fri13901szHLh/T8ddtn044x6KFbzf4m4I9J+hVJU0nfkE2/BriQm+8Csx6+\nmZmtWV0Zp2yZr42Ib5T0VuAU8HUl8470GGpmfWlSdhlraaaNLmF/AfgYQER8RtLLkl4PPA9cn5vv\numzaq+zs7Fx6PZlM/IBlMyvVJMSHGPTT6ZTpdNrb+mofOC7pAPBoRNySvf8LwDURcUzSQeDxiLgh\nO0H7YWZ1+muBx4E3FJ8u7geOm5m1t+gDxyt79pJOArcBv0/Sc8D7gOPA8Ww45peB7waIiDOSTgFn\ngJeA+53qZrYsxdJN21LO2Eo/tT373jfonr2ZLcmQA3zRnr2voDWzjdf0BmdNboU8Vg57M9t4vp3x\n4hz2ZmYj4LA3s0HLl3HGXNJx2JvZoKVusTBGDnsz23r5xxVWzTNmDnsz23qpxxU2eSD5mA4ADnsz\nG6S6xxjO5xkLh72ZDdaYwryOw97MtkLTksuYSjNtOOzNbCs07aU3nW9sBwWHvZmN0thKPA57M9to\ni/TAx9Z7r+KwN7ONVvXg8K7LjpHD3sy2UlWQFw8E7uE77M1sgOYHglTIjzX4K8Ne0nFJu9lTqYqf\n/dXs+bNX5qYdlfSMpLOSbl/GDpuZ5VWFd6r3P9bSTl3P/mHgjuJESdcD7wD+e27aIeBu4FC2zEOS\n/M3BzJaqrqY/5KdXtVEZxhHxBPBi4qN/ALynMO0wcDIiLkbEeeBZZg8fNzNbmXnIO+BfqXXPW9Jh\n4EJE/Frho2uAC7n3F4BrF9g3M7NG8qWcYr2+qn4/Jpe3mVnSa4EfZlbCuTS5YpHksXVnZ+fS68lk\nwmQyabMbZjYiqTJMcVqTXvy29fSn0ynT6bS39SlqWkDSAeDRiLhF0i3A48D/yz6+DngeeBtwH0BE\nPJAt94vAsYj4dGF9UbdNM7OmxlKTl0REdP5+0qqMExFPRcT+iLgxIm5kVqp5S0TsAo8A90i6QtKN\nwE3Ak113zMysiXzQe3x9ubqhlyeBTwEHJT0n6b7CLJeaOSLOAKeAM8AvAPe7C29my1AW4k6ccrVl\nnN436DKOmXWQL9cUSzdjKOWstIxjZrYuVSdkmzyVaq7J82qHyGFvZluvrmdfHJo59G8BKQ57M9s6\nTR4mnp93jOFe5LA3s63SNrwd9DMOezPbKg7vbhz2Zra1up5o9QlaM7Mtkrqgyk+wSnPYm9lWqbug\naoxB3oTD3sy2Spsx9XNjLNsUOezNbCO1fQJV1XLu7TvszWzDLPrwEQd7msPezDZKXa+9qsfvB4yX\nc9ib2dYou51x1bcB9/RnHPZmtjGa9Mwd6N20eiyhmdkyNQ3yslsmpJ5FazPu2ZvZ1ikbflk31n7M\n9fu6J1Udl7Qr6anctL8r6WlJ/1nSxyS9LvfZUUnPSDor6fZl7riZjVtZoFf16Mfc26/r2T8M3FGY\n9hjwhyPiTcA54CiApEPA3cChbJmHJPmbg5n1ou0oHHulyjCOiCeAFwvTTkfEy9nbTwPXZa8PAycj\n4mJEnAeeBW7td3fNbKyKvfJifX6sT6BqatGe958Hfj57fQ1wIffZBeDaBddvZpaUejThmMs0dTqP\nxpH014EvR8SHK2ZLNv3Ozs6l15PJhMlk0nU3zGwA8uPkq0badH3I+DY+rWo6nTKdTntbn6KmBSQd\nAB6NiFty0/4c8L3A2yPid7NpRwAi4oHs/S8CxyLi04X1Rd02zczKbGNw90ESEdG5UNW6jCPpDuCH\ngMPzoM88Atwj6QpJNwI3AU923TEzs6o6vOvz7VSWcSSdBG4DXi/pOeAYs9E3VwCnNWvt/xAR90fE\nGUmngDPAS8D97sKbWRNlvfXUSdlUqadJb3+s3wjmass4vW/QZRwza6hJqOenDTnQV17GMTNblXyI\n59+XTRtq0PfBYW9ma1f3/Nhi6Oen5dfhOn45h72ZrV3+njbFwK67uVm+h++efTmHvZltlLbPmG0T\n8GPu/fsWx2a2carq8Is8tnDMPX/37M1sI5X1wuflmtSTqlLrsBmHvZlthGK4l9XgUzX9Jrc7Hnvw\nO+zNbCNUnWBNnaStu49Oav1jDnyHvZltjSbPo81Pbzr/GDjszWzjpWr0TXrpYw73Ioe9ma1E2xJK\nVSkmX/Jps16XcczMlqxtLzv1cJJUjb7Nesfc03fYm9nGq7qqdsy99TYc9ma2VnVhnb9vTn4kzlzT\n0Thj57A3s7Vpc0viuoeKO+CrVYa9pOOSdiU9lZt2paTTks5JekzSvtxnRyU9I+mspNuXueNmtv3K\nboVQnKdqTH1qXVXzjfWgUNezfxi4ozDtCHA6Ig4Cn8jeI+kQcDdwKFvmIUn+5mBmjTV92lSxh98k\nwIv31Blb6FeGcUQ8AbxYmHwncCJ7fQK4K3t9GDgZERcj4jzwLHBrf7tqZtuuaX2+bFqqZp96n7LI\nKJ4h6NLz3h8Ru9nrXWB/9voa4EJuvgvAtQvsm5kNTFmvuupOlnUBP7YeelcLlVmyh8lWHR9Hduw0\nsyaqetn50TdlpZpib79qaKbNdLmf/a6kqyLiBUlXA5/Ppj8PXJ+b77ps2qvs7Oxcej2ZTJhMJh12\nw8y2VdmDxIt/56VOwBavpi37fBtNp1Om02lv61PUtISkA8CjEXFL9v79wBcj4kFJR4B9EXEkO0H7\nYWZ1+muBx4E3RGEDkoqTzGzAmgZu1R0sqx48Xpx3bmgxI4mI6PydpbJnL+kkcBvweknPAe8DHgBO\nSfoe4DzwToCIOCPpFHAGeAm436luNm5te9bFYC/eA6duXU6ccrU9+9436J69meV06blXlYCGatGe\nvcfBm1nv8idXi3/n5ykqhv58PfM/VfX5IQd9Hxz2Zta7fCinwrh4n5vi/W9SyzZ5xGAfo3CGOpLH\nYW9mS1EVmnX3uVlk3q771HQd28phb2ZLschVrfnSTWp6U34s4R6HvZktTVm9Hl49br4Y7k3G2ae2\nVbZM3bxD1+WiKjOzRpqMqqkaG19W52+zrUXnHQr37M1s6cqGVlYFeNW3guL0MfbU23LYm1krXe5c\nWZxeNowydc+bslE4Te9fbzMu45hZK1WllTb3la9aR9XdL9uqu1BrLNyzN7PWmtySuHhhVHH8fH56\nauRN8XXVgaTqgq3UN4gxctibWWup2wrnp6d651XDJps+nrBqf5rOO1YOezMr1eXCqOLNy6rWmz9o\nrLoGP7aTug57MytVNVImX5qpOyjk/+Sn5ddX/LtutE3dgaQuzMfW+3fYm9krNLlKte4kbbGUUxXm\nqVr+ImUZ3xgtzWFvZrU95zZj3VPBX1R20rR4Q7SqbTrM23HYm9mraufFMK6qwRd70l3uXZOq+6cO\nFGUHgTZlnrp9GarOYS/pqKTfkPSUpA9Leo2kKyWdlnRO0mOS9vW5s2a2PFU95aorX1MXS5Wtu+zJ\nU8XPy3rvTS6wqpu3zNC/KXQK++y5tN8LvCV7Nu1lwD3AEeB0RBwEPpG9N7MN1bQ3m6rRF0fUVJ0Y\nTdXsiyd2i/PUhXWT4Zr5ebtc8DUkXXv2/xu4CLxW0uXAa4HfBO4ETmTznADuWngPzWxpygIzFdzF\ni6DqSjtVdfnUSdTUXTBTy5ZNazIqqM6Qe/edwj4ifgv4+8D/YBbyX4qI08D+iNjNZtsF9veyl2a2\nUlUjWlIHgtRQyrrhk2UHlroDQVXZaMhhvaiuZZw/BPxl4ABwDfDVkv5sfp7sqeJuerM1KyuvVL0v\nlmWqgr3sZGrdPrUdIlm85ULTZYdcmmmj643QvgH4VER8EUDSx4BvAl6QdFVEvCDpauDzqYV3dnYu\nvZ5MJkwmk467YWZ1ykK1eKK0aWhX3Sahyb5UlYKqhlzWnUDustwmm06nTKfT3tan6NASkt4E/DTw\nVuB3gX8GPAn8QeCLEfGgpCPAvog4Ulg2umzTzKqV3Y+mbARNMWhT74s9+qb18aplyi6cqhtWWVf/\nHzpJRETn7ymdwj7b8HuAe4GXgV8F3gX8XuAUcANwHnhnRHypsJzD3qwHTcacV51MbTOapUrVqJli\nwKeWq5veNS7KDm7bam1h33mDDnuzhRV7yHVjzvPLzecp67Wn3uctMuoltf1lBHKTdW3bAWDRsPcV\ntGYbqqx+ngqpuiGUxeXqrkytCvOmIVk2tj5Vxmm6/arRPXmpdZV9gxgLh73ZiqWGJc6n55WNUy/r\nCReDNDWapi7Ei9sovq6bN/9ZMdRTvfmuJ1XLDlyp16ntj5HD3myJyi5KgnY9y9TBIT96pngAqSvr\nNAnT/DbKli37vPhvrdtuk9JPWds1ed1kO0PnsDdboqpe+FzZaJjU50166PltlPVm6wI8P1/ZN4zU\n8vm/8/+eJvtb9o2n6iRvW+7Zm41Yl3Hl+ell9fGyUTFNwq+szNMm8PPraNqTT623uC9VB4+ybxZl\n9fjUfFVj78v+HU3/D8sOqGPg0Tg2emUjWpYZCKuoH5dto256qrYO5Sdm607Ypj5f90iYdW+/i0VH\n43S9gtZspcpGb5SFUp3isnW96LJl22hbhllUWTmk7H1x39qUgNocHNrMV/b/XqXJPNsW9H1wz37F\niqMI2v4g1823SC+qri5a9hV47KMcNknf/xfF//PiCJu24Vu3bP5ncNO+Daybx9kvWdnJsq7zVY0W\nSP1wp3peTX6hy0525deT/7yqx1l3os1BvzmaBmLdqJUmyxaDO7Uv8/nrzh2kznEUp9cNAW0yfczc\ns7fkN4yUprXe1C933S9+k20u2mvd5G8gfe1bm9JTqpdeNn/Z+7JeeBNlIZ7apyb7k1r/kKLGt0uw\nrdalJAXVv9xNTximDkhdhvk1nbeuRNb1/EN++aqedlUPu+obXXG+pr++fZQlm8676IFnG7iMY1ut\n6hcz9VlE/Um/qsArzpcqZxQ/L/tTtc7iequ2U9zXVEmjrOzSJZDnoZgv3aX2N1XiS02v2k6ZpmXP\nputMtam9kkfj2GAt+xe/LPDz4VkW6PnPq76tFHurqR58cRt1PdzigaVqX+vO5VR9+yr7NxWXrftm\n1PaEsKW5Z2/Ws7LwLPtWkppedmCY/z3vmad6+alyTvGAUtxm2QnS/Lxl20+dCyj7tzYpY6XWl3rd\nZL2pAQ5j5bA3W4G2vdEm81cdOIonNlPnJYrfAlLfVJocEKrOMVSFcPGA1LQU0/T8QnH62L8ROOzN\ntlBdcKXCPT+92FNPSfW0m5anUu9To2mqToaXHTi6hPbYe/WwQNhL2ifpo5KelnRG0tskXSnptKRz\nkh6TtK/PnTWzenXhnJ+nrMyRquV36XEXlZ24LisHtVl31T6NvVcPi/Xsfxz4+Yh4I/D1wFngCHA6\nIg4Cn8jem9kKtSkBlZ347FJvb/ptI6VY1mlTqum6zdQ+DFnXB46/DvhsRHxdYfpZ4LaI2JV0FTCN\niJsL83icvdkKtB250kcveFN60kMctbOucfY3Al+Q9LCkX5X0U5K+CtgfEbvZPLvA/q47ZmaL6XJS\nuHjStErbsfJdx9Z3mb/N9QBj0TXsLwfeAjwUEW8B/i+Fkk3WfR/YsdVsHJrU58tG75SdHyjW5Zcx\nQik1/9B6+F11vajqAnAhIj6Tvf8ocBR4QdJVEfGCpKuBz6cW3tnZufR6MpkwmUw67oaZrUPXAK26\nOKrs4qkut0KoW3/ZPJtkOp0ynU57W1/ne+NI+mXgXRFxTtIO8Nrsoy9GxIOSjgD7IuJIYTnX7M22\nWFn4Nr1vTZsrYtsEdNXY/SFY243QJL0J+CBwBfBfgfuAy4BTwA3AeeCdEfGlwnIOe7Mtt0gvu+p9\nmx7/MvZ1k/mul2a2NZoGb5MDANRfEDakqPFjCc1sa/QVvnWlnCGFfF98uwQzW4mq++Skrp7t0jt3\nyJdz2JvZSjS9n06TkPfY+fYc9mbW2qJhmxqjn7ptc5eboflAkOawN7PW+rhJWXHZstsst92uSzlp\nDnszW0jT0TV1y1YdNPq6MdqYOezNbOlSdfmqp2NVLV92V8w298IZY6nHQy/NbOUW6ZXXPZWqyRW3\nY/xW4J69ma3UKp4LO8SLqhblsDezlap7SEpe15JM2xPIYyjrOOzNrDddQrPqPvd99MzbPLlryBz2\nZtabRR4dmBpnX6VpqabtKJ+hctibWa+6hmvbe9o0nbfpKJ+hc9ibWa+WFa5teuF99tiH0vt32JvZ\nRqi6URq8+sEkqwrhofT+HfZmthGqnnJVN1+TdY3dQmEv6TJJn5X0aPb+SkmnJZ2T9Jikff3sppmN\nUfEh5cXP2hpKSaaLRXv2PwicAebNfgQ4HREHgU9k783MOql6rm3b9cC4e/ydw17SdcC3MXsO7bzp\n7wROZK9PAHcttHdmNkhdw3quWL+vM+aQn1ukZ/9jwA8BL+em7Y+I3ez1LrB/gfWb2UC1Dd+mDz7p\nagxj8TvdCE3StwOfj4jPSpqk5omIkJT8r9jZ2bn0ejKZMJkkV2FmIzev2be5xULX7XT5bJmm0ynT\n6bS39Sk6/Esk/SjwXcBLwFcCXwN8DHgrMImIFyRdDXwyIm4uLBtdtmlmNlf2RKshR4skIqLz94xO\nZZyI+OGIuD4ibgTuAf5tRHwX8AhwbzbbvcDHu+6YmVkT8+AfctD3oa9x9vNmfgB4h6RzwLdk783M\nelVX1hlKnb1Pnco4C23QZRwzs9bWUsYxM9sEXXvwY+z5O+zNbON1uYq27g6bY+OwN7ONt8h98m3G\nYW9mG2mMpZZlctib2Ubq4/m0Xazigejr4LA3s620rDLNsq/WXReHvZltvT4edD50Dnsz2xp93tt+\nSL32Jhz2ZrY1yq6WHVsvvYtOd700M9sUY+uhd+WevZltpSajZtzj3+OwN7Ot5AePt+OwN7Otkeqp\np55TW9ejn38+pp6/w97Mtkbq2bOp3ntdj37++Zh6/g57M9s6YwrpvjjszWwQxlSS6aJT2Eu6XtIn\nJf2GpF+X9APZ9CslnZZ0TtJjkvb1u7tmZml1dfuxHwy6PnD8KuCqiPicpK8G/hNwF3Af8L8i4v2S\n3gt8bUQcKSzrJ1WZmbW0rgeOvxARn8te/x/gaeBa4E7gRDbbCWYHADOz3vjpVN0sXLOXdAB4M/Bp\nYH9E7GYf7QL7F12/mVlek8JAKtjzy40x+Be6XUJWwvkXwA9GxG8r14IREZKS/y07OzuXXk8mEyaT\nySK7YWb2Ck2HXqbG6G+K6XTKdDrtbX2davYAkr4C+FfAL0TEP8ymnQUmEfGCpKuBT0bEzYXlXLM3\ns6Wah/gmh3lba6nZa9aF/xBwZh70mUeAe7PX9wIf77pjZmZdDS3o+9B1NM4fBX4Z+DVgvoKjwJPA\nKeAG4Dzwzoj4UmFZ9+zNbK228UCwaM++cxmn8wYd9mbWUV8hPcaw9xW0ZrY1UvfGSb3vup4hc9ib\n2dYp9sq79tK3rXe/CIe9mY1Kk4eeDJHD3swGrRjo+d68e/ZmZmvSZ297G0/ELovD3sw2Sptwrjsw\nOOj3OOzNbGs5zJtz2JuZjYDD3sxsBBz2ZmYj4LA3MxsBh72ZbZ0xXQzVF4e9mW2dslE4PgiUc9ib\n2WB4KGY5h72ZDZZ7+nt6D3tJd0g6K+kZSe/te/1mZk2levpjPQD0GvaSLgP+MXAHcAj4Tklv7HMb\nQ9Lnw4S3ndtij9tizzLaYqylnr579rcCz0bE+Yi4CHwEONzzNgbDv9R73BZ73BZ73Bb96TvsrwWe\ny72/kE1bqjY/EE3mLZun6fSq98v+4XVblG970XnbtEWTaatqi7brdlu0m39b2qLvsF/LFyQHXPm2\nF53XbVE/z6b9UjfZl0Xnd1vUz7NpbdHrA8clfSOwExF3ZO+PAi9HxIO5eUZaMTMzW8wiDxzvO+wv\nB/4L8HbgN4Enge+MiKd724iZmbV2eZ8ri4iXJP0l4N8AlwEfctCbma1frz17MzPbTL6C1sxsBBz2\nZmYjsPawl3SjpA9K+tl178u6STos6Z9K+oikd6x7f9ZJ0s2SfkLSKUnfs+79WTdJXyXpM5L+5Lr3\nZZ0kTSQ9kf1s3Lbu/VknzfxtSf9I0nfXzb/2sI+I/xYR71r3fmyCiPi5iPg+4C8Cd697f9YpIs5G\nxLuBe4A/se792QDvAX5m3TuxAV4Gfht4DbOLNsfsLmYXrX6ZBm2xlLCXdFzSrqSnCtNHd5O0jm3x\nI8zuMTQobdtC0p8C/jWz224MSpu2yL7lnQG+sI59XbaWPxdPRMS3AUeAv7nynV2ylm1xEPj3EfHX\ngHfXrjwiev8DfDPwZuCp3LTLgGeBA8BXAJ8D3pj7/GeXsS/r/tOmLQABDwJvX/d+r7stCsv93Lr3\nfc0/F38L+DFmQ5o/TjaKbih/OubFFUPMjJY/F38G+NPZPD9Tt+5ex9nPRcQTkg4UJl+6SRqApI8A\nhyXtAj8K/BFJ743c1bZD0KYtgG9ldkHa10h6Q0T85Ap3dela/lz8AeA7gK8EPrnC3VyJNm0RET+S\nvb8X+EJkv91D0fLn4mZmZb19wAdWuJsr0TIvfhz4gKRvBqZ1615K2JdI3STtbRHxW8xq1GNS1hbf\nzwB/gGuUtcUvAb+0nl1am2RbzN9ExImV79H6lP1cPAD8y/Xs0tqUtcXvAI3Pd67yBO2geiMLclvs\ncVvscVvscVvs6aUtVhn2zwPX595fz3jPprst9rgt9rgt9rgt9vTSFqsM+/8I3CTpgKQrmA0tfGSF\n298kbos9bos9bos9bos9vbTFsoZengQ+BRyU9Jyk+yLiJWB+k7QzzM4eD/4maW6LPW6LPW6LPW6L\nPctsC98IzcxsBNZ+Ba2ZmS2fw97MbAQc9mZmI+CwNzMbAYe9mdkIOOzNzEbAYW9mNgIOezOzEXDY\nm5mNwP8HP20Miv5+x+EAAAAASUVORK5CYII=\n",
      "text/plain": [
       "<matplotlib.figure.Figure at 0x10ab20b10>"
      ]
     },
     "metadata": {},
     "output_type": "display_data"
    }
   ],
   "source": [
    "plt.plot(df['lnprob'].max() - df['lnprob'], df['rotation_angle'], ',')\n",
    "plt.semilogx()\n",
    "#plt.axis([1,1e6,62,68])"
   ]
  },
  {
   "cell_type": "code",
   "execution_count": 61,
   "metadata": {
    "collapsed": false
   },
   "outputs": [
    {
     "data": {
      "text/plain": [
       "17.36111111111111"
      ]
     },
     "execution_count": 61,
     "metadata": {},
     "output_type": "execute_result"
    }
   ],
   "source": [
    "25000/60./24"
<<<<<<< HEAD
=======
   ]
  },
  {
   "cell_type": "code",
   "execution_count": 66,
   "metadata": {
    "collapsed": false
   },
   "outputs": [],
   "source": [
    "from glob import glob\n",
    "datadir = '../../../BigData/kaggle-right-whale/right_whale_hunt/imgs/'\n",
    "whaledirs = glob(datadir + 'whale_*')\n"
   ]
  },
  {
   "cell_type": "code",
   "execution_count": 69,
   "metadata": {
    "collapsed": false
   },
   "outputs": [
    {
     "name": "stdout",
     "output_type": "stream",
     "text": [
      "(48, '../../../BigData/kaggle-right-whale/right_whale_hunt/imgs/whale_10977')\n"
     ]
    }
   ],
   "source": [
    "counter = 0\n",
    "for whaledir in whaledirs:\n",
    "    if whaledir[-5:] == '10977':\n",
    "        print(counter, whaledir)\n",
    "    counter += 1"
>>>>>>> master
   ]
  },
  {
   "cell_type": "code",
   "execution_count": null,
   "metadata": {
    "collapsed": true
   },
   "outputs": [],
   "source": []
  }
 ],
 "metadata": {
  "kernelspec": {
   "display_name": "Python 2",
   "language": "python",
   "name": "python2"
  },
  "language_info": {
   "codemirror_mode": {
    "name": "ipython",
    "version": 2
   },
   "file_extension": ".py",
   "mimetype": "text/x-python",
   "name": "python",
   "nbconvert_exporter": "python",
   "pygments_lexer": "ipython2",
   "version": "2.7.10"
  }
 },
 "nbformat": 4,
 "nbformat_minor": 0
}
